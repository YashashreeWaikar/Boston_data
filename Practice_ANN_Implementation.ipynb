{
  "cells": [
    {
      "cell_type": "markdown",
      "metadata": {
        "id": "view-in-github",
        "colab_type": "text"
      },
      "source": [
        "<a href=\"https://colab.research.google.com/github/YashashreeWaikar/Boston_data/blob/main/Practice_ANN_Implementation.ipynb\" target=\"_parent\"><img src=\"https://colab.research.google.com/assets/colab-badge.svg\" alt=\"Open In Colab\"/></a>"
      ]
    },
    {
      "cell_type": "code",
      "execution_count": null,
      "metadata": {
        "colab": {
          "base_uri": "https://localhost:8080/",
          "height": 35
        },
        "id": "No2tg4njPeMa",
        "outputId": "fdf56bc1-af66-4b0d-b7f7-097102070c36"
      },
      "outputs": [
        {
          "data": {
            "application/vnd.google.colaboratory.intrinsic+json": {
              "type": "string"
            },
            "text/plain": [
              "'\\nProject title :\\n\\nBuilding the highly scalable algorithm based predictive model for evaluating\\npolycystic ovarian syndrom.\\n\\n'"
            ]
          },
          "execution_count": 127,
          "metadata": {},
          "output_type": "execute_result"
        }
      ],
      "source": [
        "\"\"\"\n",
        "Project title :\n",
        "\n",
        "Building the highly scalable algorithm based predictive model for evaluating\n",
        "polycystic ovarian syndrom.\n",
        "\n",
        "\"\"\""
      ]
    },
    {
      "cell_type": "code",
      "execution_count": null,
      "metadata": {
        "colab": {
          "base_uri": "https://localhost:8080/",
          "height": 52
        },
        "id": "b76MeHksP30E",
        "outputId": "38574501-a74f-42c0-d9c0-0aa12848b8a0"
      },
      "outputs": [
        {
          "data": {
            "application/vnd.google.colaboratory.intrinsic+json": {
              "type": "string"
            },
            "text/plain": [
              "'\\nRoles and Responsibilities :\\n\\n1. Understand, analyze and interpret large dataset.\\n2. Develope advance programs to extract the data needed, prepare the data for\\n   further analysis.\\n   \\n\\n'"
            ]
          },
          "execution_count": 128,
          "metadata": {},
          "output_type": "execute_result"
        }
      ],
      "source": [
        "\"\"\"\n",
        "Roles and Responsibilities :\n",
        "\n",
        "1. Understand, analyze and interpret large dataset.\n",
        "2. Develope advance programs to extract the data needed, prepare the data for\n",
        "   further analysis.\n",
        "   \n",
        "\n",
        "\"\"\""
      ]
    },
    {
      "cell_type": "code",
      "execution_count": null,
      "metadata": {
        "colab": {
          "base_uri": "https://localhost:8080/",
          "height": 104
        },
        "id": "bJimPxRsP64b",
        "outputId": "8daf51fb-2a3e-45ec-8b9e-8e2eeb2ea44e"
      },
      "outputs": [
        {
          "data": {
            "application/vnd.google.colaboratory.intrinsic+json": {
              "type": "string"
            },
            "text/plain": [
              "'\\n\\nWhat actually the project is ?\\n\\n1. Polycystic ovarian syndrom is a disorder involving the infrequent, irregular\\n   or prolong menstural cycle and often cause by male harmones ie Androgens levels.\\n\\n2. Many womens have PCOS but actually the dont know. In study upto 70% of the \\n   womens had not been diagnosed.\\n\\n3. The reproductive organs that produces the estrogen and the progestron regulate\\n   the menstural cycle. Ovaries also produce small amount of male harmones called \\n   as Androgens.\\n\\n4. FSH AND LSH which are produce in pitiutary control the ovaluation.\\n\\n\\nPCOS it is basically a group of symptoms:\\n\\n1. Cyst is present in ovary.\\n2. high level of male harmones.\\n3. Irregular or skipped menstural cycles.\\n\\n\\n'"
            ]
          },
          "execution_count": 129,
          "metadata": {},
          "output_type": "execute_result"
        }
      ],
      "source": [
        "\"\"\"\n",
        "\n",
        "What actually the project is ?\n",
        "\n",
        "1. Polycystic ovarian syndrom is a disorder involving the infrequent, irregular\n",
        "   or prolong menstural cycle and often cause by male harmones ie Androgens levels.\n",
        "\n",
        "2. Many womens have PCOS but actually the dont know. In study upto 70% of the \n",
        "   womens had not been diagnosed.\n",
        "\n",
        "3. The reproductive organs that produces the estrogen and the progestron regulate\n",
        "   the menstural cycle. Ovaries also produce small amount of male harmones called \n",
        "   as Androgens.\n",
        "\n",
        "4. FSH AND LSH which are produce in pitiutary control the ovaluation.\n",
        "\n",
        "\n",
        "PCOS it is basically a group of symptoms:\n",
        "\n",
        "1. Cyst is present in ovary.\n",
        "2. high level of male harmones.\n",
        "3. Irregular or skipped menstural cycles.\n",
        "\n",
        "\n",
        "\"\"\""
      ]
    },
    {
      "cell_type": "code",
      "execution_count": null,
      "metadata": {
        "colab": {
          "base_uri": "https://localhost:8080/",
          "height": 52
        },
        "id": "fhLD6qIkP7jA",
        "outputId": "a0507c46-99ca-4f32-d967-6e03baba8124"
      },
      "outputs": [
        {
          "data": {
            "application/vnd.google.colaboratory.intrinsic+json": {
              "type": "string"
            },
            "text/plain": [
              "'\\n\\nWhat have you acheived?\\n\\n1. Right patient at right place.\\n\\n2. Match the girl/women with right product / Treatement.\\n   \\n   if PCOS ---> TREATEMENT\\n   if NO PCOS ---> Relieve the patient\\n\\n3. Get more insights from the patient.\\n\\n'"
            ]
          },
          "execution_count": 130,
          "metadata": {},
          "output_type": "execute_result"
        }
      ],
      "source": [
        "\"\"\"\n",
        "\n",
        "What have you acheived?\n",
        "\n",
        "1. Right patient at right place.\n",
        "\n",
        "2. Match the girl/women with right product / Treatement.\n",
        "   \n",
        "   if PCOS ---> TREATEMENT\n",
        "   if NO PCOS ---> Relieve the patient\n",
        "\n",
        "3. Get more insights from the patient.\n",
        "\n",
        "\"\"\""
      ]
    },
    {
      "cell_type": "code",
      "execution_count": null,
      "metadata": {
        "id": "XiD8p98iP74B"
      },
      "outputs": [],
      "source": [
        "# !pip install ipython"
      ]
    },
    {
      "cell_type": "code",
      "execution_count": null,
      "metadata": {
        "id": "q1DHGmvJP8HR"
      },
      "outputs": [],
      "source": [
        "from google.colab import files\n",
        "from IPython.display import Image"
      ]
    },
    {
      "cell_type": "code",
      "execution_count": null,
      "metadata": {
        "id": "AuEnuYPCP8ZL"
      },
      "outputs": [],
      "source": [
        "# Image(\"/content/Life-Cycle-of-Machine-Learning.png\")  if we add uploaded image path it will show image, but first upload here"
      ]
    },
    {
      "cell_type": "markdown",
      "metadata": {
        "id": "8S31AEDMSfIj"
      },
      "source": [
        "# Importing the Libraries"
      ]
    },
    {
      "cell_type": "code",
      "execution_count": null,
      "metadata": {
        "id": "8-TJ9sxmQkBC"
      },
      "outputs": [],
      "source": [
        "import pandas as pd\n",
        "import numpy as np\n",
        "import os\n",
        "\n",
        "import tensorflow as tf\n",
        "from tensorflow.keras.utils import plot_model\n",
        "from tensorflow.keras.callbacks import EarlyStopping\n",
        "from tensorflow.keras.layers import Dropout\n",
        "\n",
        "from sklearn.preprocessing import StandardScaler\n",
        "from sklearn.model_selection import train_test_split\n",
        "\n",
        "import seaborn as sns\n",
        "import matplotlib.pyplot as plt\n"
      ]
    },
    {
      "cell_type": "code",
      "execution_count": null,
      "metadata": {
        "colab": {
          "base_uri": "https://localhost:8080/",
          "height": 206
        },
        "id": "UMbJHIAtQkSY",
        "outputId": "39af557d-cc49-432e-c5e9-565c52e4aed9"
      },
      "outputs": [
        {
          "data": {
            "text/html": [
              "\n",
              "  <div id=\"df-172ca879-3e22-40bc-8802-4a1dfb9327a7\">\n",
              "    <div class=\"colab-df-container\">\n",
              "      <div>\n",
              "<style scoped>\n",
              "    .dataframe tbody tr th:only-of-type {\n",
              "        vertical-align: middle;\n",
              "    }\n",
              "\n",
              "    .dataframe tbody tr th {\n",
              "        vertical-align: top;\n",
              "    }\n",
              "\n",
              "    .dataframe thead th {\n",
              "        text-align: right;\n",
              "    }\n",
              "</style>\n",
              "<table border=\"1\" class=\"dataframe\">\n",
              "  <thead>\n",
              "    <tr style=\"text-align: right;\">\n",
              "      <th></th>\n",
              "      <th>Glucose</th>\n",
              "      <th>BloodPressure</th>\n",
              "      <th>SkinThickness</th>\n",
              "      <th>Insulin</th>\n",
              "      <th>BMI</th>\n",
              "      <th>DiabetesPedigreeFunction</th>\n",
              "      <th>Age</th>\n",
              "      <th>Outcome</th>\n",
              "    </tr>\n",
              "  </thead>\n",
              "  <tbody>\n",
              "    <tr>\n",
              "      <th>0</th>\n",
              "      <td>148</td>\n",
              "      <td>50</td>\n",
              "      <td>35</td>\n",
              "      <td>0</td>\n",
              "      <td>33.6</td>\n",
              "      <td>0.627</td>\n",
              "      <td>50</td>\n",
              "      <td>1</td>\n",
              "    </tr>\n",
              "    <tr>\n",
              "      <th>1</th>\n",
              "      <td>85</td>\n",
              "      <td>66</td>\n",
              "      <td>29</td>\n",
              "      <td>0</td>\n",
              "      <td>26.6</td>\n",
              "      <td>0.351</td>\n",
              "      <td>31</td>\n",
              "      <td>0</td>\n",
              "    </tr>\n",
              "    <tr>\n",
              "      <th>2</th>\n",
              "      <td>183</td>\n",
              "      <td>64</td>\n",
              "      <td>0</td>\n",
              "      <td>0</td>\n",
              "      <td>23.3</td>\n",
              "      <td>0.672</td>\n",
              "      <td>52</td>\n",
              "      <td>1</td>\n",
              "    </tr>\n",
              "    <tr>\n",
              "      <th>3</th>\n",
              "      <td>150</td>\n",
              "      <td>66</td>\n",
              "      <td>23</td>\n",
              "      <td>94</td>\n",
              "      <td>28.1</td>\n",
              "      <td>0.167</td>\n",
              "      <td>21</td>\n",
              "      <td>0</td>\n",
              "    </tr>\n",
              "    <tr>\n",
              "      <th>4</th>\n",
              "      <td>150</td>\n",
              "      <td>40</td>\n",
              "      <td>35</td>\n",
              "      <td>168</td>\n",
              "      <td>43.1</td>\n",
              "      <td>2.288</td>\n",
              "      <td>33</td>\n",
              "      <td>1</td>\n",
              "    </tr>\n",
              "  </tbody>\n",
              "</table>\n",
              "</div>\n",
              "      <button class=\"colab-df-convert\" onclick=\"convertToInteractive('df-172ca879-3e22-40bc-8802-4a1dfb9327a7')\"\n",
              "              title=\"Convert this dataframe to an interactive table.\"\n",
              "              style=\"display:none;\">\n",
              "        \n",
              "  <svg xmlns=\"http://www.w3.org/2000/svg\" height=\"24px\"viewBox=\"0 0 24 24\"\n",
              "       width=\"24px\">\n",
              "    <path d=\"M0 0h24v24H0V0z\" fill=\"none\"/>\n",
              "    <path d=\"M18.56 5.44l.94 2.06.94-2.06 2.06-.94-2.06-.94-.94-2.06-.94 2.06-2.06.94zm-11 1L8.5 8.5l.94-2.06 2.06-.94-2.06-.94L8.5 2.5l-.94 2.06-2.06.94zm10 10l.94 2.06.94-2.06 2.06-.94-2.06-.94-.94-2.06-.94 2.06-2.06.94z\"/><path d=\"M17.41 7.96l-1.37-1.37c-.4-.4-.92-.59-1.43-.59-.52 0-1.04.2-1.43.59L10.3 9.45l-7.72 7.72c-.78.78-.78 2.05 0 2.83L4 21.41c.39.39.9.59 1.41.59.51 0 1.02-.2 1.41-.59l7.78-7.78 2.81-2.81c.8-.78.8-2.07 0-2.86zM5.41 20L4 18.59l7.72-7.72 1.47 1.35L5.41 20z\"/>\n",
              "  </svg>\n",
              "      </button>\n",
              "      \n",
              "  <style>\n",
              "    .colab-df-container {\n",
              "      display:flex;\n",
              "      flex-wrap:wrap;\n",
              "      gap: 12px;\n",
              "    }\n",
              "\n",
              "    .colab-df-convert {\n",
              "      background-color: #E8F0FE;\n",
              "      border: none;\n",
              "      border-radius: 50%;\n",
              "      cursor: pointer;\n",
              "      display: none;\n",
              "      fill: #1967D2;\n",
              "      height: 32px;\n",
              "      padding: 0 0 0 0;\n",
              "      width: 32px;\n",
              "    }\n",
              "\n",
              "    .colab-df-convert:hover {\n",
              "      background-color: #E2EBFA;\n",
              "      box-shadow: 0px 1px 2px rgba(60, 64, 67, 0.3), 0px 1px 3px 1px rgba(60, 64, 67, 0.15);\n",
              "      fill: #174EA6;\n",
              "    }\n",
              "\n",
              "    [theme=dark] .colab-df-convert {\n",
              "      background-color: #3B4455;\n",
              "      fill: #D2E3FC;\n",
              "    }\n",
              "\n",
              "    [theme=dark] .colab-df-convert:hover {\n",
              "      background-color: #434B5C;\n",
              "      box-shadow: 0px 1px 3px 1px rgba(0, 0, 0, 0.15);\n",
              "      filter: drop-shadow(0px 1px 2px rgba(0, 0, 0, 0.3));\n",
              "      fill: #FFFFFF;\n",
              "    }\n",
              "  </style>\n",
              "\n",
              "      <script>\n",
              "        const buttonEl =\n",
              "          document.querySelector('#df-172ca879-3e22-40bc-8802-4a1dfb9327a7 button.colab-df-convert');\n",
              "        buttonEl.style.display =\n",
              "          google.colab.kernel.accessAllowed ? 'block' : 'none';\n",
              "\n",
              "        async function convertToInteractive(key) {\n",
              "          const element = document.querySelector('#df-172ca879-3e22-40bc-8802-4a1dfb9327a7');\n",
              "          const dataTable =\n",
              "            await google.colab.kernel.invokeFunction('convertToInteractive',\n",
              "                                                     [key], {});\n",
              "          if (!dataTable) return;\n",
              "\n",
              "          const docLinkHtml = 'Like what you see? Visit the ' +\n",
              "            '<a target=\"_blank\" href=https://colab.research.google.com/notebooks/data_table.ipynb>data table notebook</a>'\n",
              "            + ' to learn more about interactive tables.';\n",
              "          element.innerHTML = '';\n",
              "          dataTable['output_type'] = 'display_data';\n",
              "          await google.colab.output.renderOutput(dataTable, element);\n",
              "          const docLink = document.createElement('div');\n",
              "          docLink.innerHTML = docLinkHtml;\n",
              "          element.appendChild(docLink);\n",
              "        }\n",
              "      </script>\n",
              "    </div>\n",
              "  </div>\n",
              "  "
            ],
            "text/plain": [
              "   Glucose  BloodPressure  SkinThickness  Insulin   BMI  \\\n",
              "0      148             50             35        0  33.6   \n",
              "1       85             66             29        0  26.6   \n",
              "2      183             64              0        0  23.3   \n",
              "3      150             66             23       94  28.1   \n",
              "4      150             40             35      168  43.1   \n",
              "\n",
              "   DiabetesPedigreeFunction  Age  Outcome  \n",
              "0                     0.627   50        1  \n",
              "1                     0.351   31        0  \n",
              "2                     0.672   52        1  \n",
              "3                     0.167   21        0  \n",
              "4                     2.288   33        1  "
            ]
          },
          "execution_count": 135,
          "metadata": {},
          "output_type": "execute_result"
        }
      ],
      "source": [
        "df= pd.read_csv(\"/content/diabetes.csv\")\n",
        "df.head()"
      ]
    },
    {
      "cell_type": "code",
      "execution_count": null,
      "metadata": {
        "colab": {
          "base_uri": "https://localhost:8080/"
        },
        "id": "vQcX4YmbtJCG",
        "outputId": "bb89b048-1944-4752-81db-b325390c85f1"
      },
      "outputs": [
        {
          "data": {
            "text/plain": [
              "(8,)"
            ]
          },
          "execution_count": 136,
          "metadata": {},
          "output_type": "execute_result"
        }
      ],
      "source": [
        "df.columns.shape"
      ]
    },
    {
      "cell_type": "code",
      "execution_count": null,
      "metadata": {
        "colab": {
          "base_uri": "https://localhost:8080/"
        },
        "id": "7nKhJW7wQkh3",
        "outputId": "7d8aaa8e-b401-471e-a479-5cc4031f67c3"
      },
      "outputs": [
        {
          "data": {
            "text/plain": [
              "0    500\n",
              "1    268\n",
              "Name: Outcome, dtype: int64"
            ]
          },
          "execution_count": 137,
          "metadata": {},
          "output_type": "execute_result"
        }
      ],
      "source": [
        "df['Outcome'].value_counts()"
      ]
    },
    {
      "cell_type": "code",
      "execution_count": null,
      "metadata": {
        "colab": {
          "base_uri": "https://localhost:8080/",
          "height": 122
        },
        "id": "m9KyZOGuQkvj",
        "outputId": "2bb2cbcf-dbbc-435f-aa92-ba77b1e26b22"
      },
      "outputs": [
        {
          "data": {
            "application/vnd.google.colaboratory.intrinsic+json": {
              "type": "string"
            },
            "text/plain": [
              "'\\n\\nProblem 1:\\n\\nAs the data was been coming from the varied sources so there was no standardization \\nin the data collection this can be seen in tha case of Glucose level and the Various\\nHarmones.\\n\\nusually the same scales were not used for measuring the various clinical parameters\\n\\nlike mili-liter, deci-liter mg/L , mmol/liter\\nex glucose level 3.5 mmol/L then converted to 63 mg/dL\\n\\nIMPACT : In the initial stage we consider it as the outlier but later on we found that \\ndifferent scales were use in the measurement the we standardize all the columns in\\nsame scale respectively.\\n\\nOUTLIERS:\\n\\n1. zscore\\n2. IQR  (Focus)\\n   explain the IQR then this significance value ie 1.5 \\n   what happens when we change the value\\n   what value you kept\\n   how 1.5 value came in the formula\\n   is the curve symmetric on 1.5\\n   \\n\\n'"
            ]
          },
          "execution_count": 138,
          "metadata": {},
          "output_type": "execute_result"
        }
      ],
      "source": [
        "\"\"\"\n",
        "\n",
        "Problem 1:\n",
        "\n",
        "As the data was been coming from the varied sources so there was no standardization \n",
        "in the data collection this can be seen in tha case of Glucose level and the Various\n",
        "Harmones.\n",
        "\n",
        "usually the same scales were not used for measuring the various clinical parameters\n",
        "\n",
        "like mili-liter, deci-liter mg/L , mmol/liter\n",
        "ex glucose level 3.5 mmol/L then converted to 63 mg/dL\n",
        "\n",
        "IMPACT : In the initial stage we consider it as the outlier but later on we found that \n",
        "different scales were use in the measurement the we standardize all the columns in\n",
        "same scale respectively.\n",
        "\n",
        "OUTLIERS:\n",
        "\n",
        "1. zscore\n",
        "2. IQR  (Focus)\n",
        "   explain the IQR then this significance value ie 1.5 \n",
        "   what happens when we change the value\n",
        "   what value you kept\n",
        "   how 1.5 value came in the formula\n",
        "   is the curve symmetric on 1.5\n",
        "   \n",
        "\n",
        "\"\"\"\n"
      ]
    },
    {
      "cell_type": "code",
      "execution_count": null,
      "metadata": {
        "colab": {
          "base_uri": "https://localhost:8080/",
          "height": 87
        },
        "id": "Owc6uE1uQk8q",
        "outputId": "ad59becc-8175-4773-c5df-f20c78a86d7d"
      },
      "outputs": [
        {
          "data": {
            "application/vnd.google.colaboratory.intrinsic+json": {
              "type": "string"
            },
            "text/plain": [
              "'\\n\\nPROBLEM 2 :\\n\\nwhenever there is an uneven distribution of the classes in the target variable \\ncalled as imbalance dataset\\n\\nhighly Imbalance : 98-2\\nModerately Imbalance : 75-25\\nBalance :50-50\\n\\nproblem with imbalance data set is that they will try to lera only one pattern\\nie nothing but the majarity class inorder to learn the pattern of minority class\\nwe use sampling technique.\\n\\n1.undersampling (explain with disadvantages but not used)\\n2.SMOTE \\n  person who invented\\n  how samples are been plotted\\n  what is the ratio done after smote\\n\\n'"
            ]
          },
          "execution_count": 139,
          "metadata": {},
          "output_type": "execute_result"
        }
      ],
      "source": [
        "\"\"\"\n",
        "\n",
        "PROBLEM 2 :\n",
        "\n",
        "whenever there is an uneven distribution of the classes in the target variable \n",
        "called as imbalance dataset\n",
        "\n",
        "highly Imbalance : 98-2\n",
        "Moderately Imbalance : 75-25\n",
        "Balance :50-50\n",
        "\n",
        "problem with imbalance data set is that they will try to lera only one pattern\n",
        "ie nothing but the majarity class inorder to learn the pattern of minority class\n",
        "we use sampling technique.\n",
        "\n",
        "1.undersampling (explain with disadvantages but not used)\n",
        "2.SMOTE \n",
        "  person who invented\n",
        "  how samples are been plotted\n",
        "  what is the ratio done after smote\n",
        "\n",
        "\"\"\"\n"
      ]
    },
    {
      "cell_type": "code",
      "execution_count": null,
      "metadata": {
        "id": "2cvv48OJQlIy"
      },
      "outputs": [],
      "source": [
        "# Splitting the data in the train test split\n",
        "\n",
        "x = df.drop(columns = [\"Outcome\"],axis=1 )\n",
        "\n",
        "y = df[\"Outcome\"]"
      ]
    },
    {
      "cell_type": "code",
      "execution_count": null,
      "metadata": {
        "colab": {
          "base_uri": "https://localhost:8080/"
        },
        "id": "KamgBPWus-Zp",
        "outputId": "91795f3a-6b17-43db-a5b8-2c6e56d6b678"
      },
      "outputs": [
        {
          "data": {
            "text/plain": [
              "(768, 7)"
            ]
          },
          "execution_count": 141,
          "metadata": {},
          "output_type": "execute_result"
        }
      ],
      "source": [
        "x.shape"
      ]
    },
    {
      "cell_type": "code",
      "execution_count": null,
      "metadata": {
        "id": "6PZAqn9JQlVZ"
      },
      "outputs": [],
      "source": [
        "# splitting the dataset in train test split\n",
        "\n",
        "x_train, x_test, y_train, y_test = train_test_split(x,y,train_size = 0.8,random_state = 42)"
      ]
    },
    {
      "cell_type": "code",
      "execution_count": null,
      "metadata": {
        "id": "zaTlKvxBQlhv"
      },
      "outputs": [],
      "source": [
        "# Scaling is required in the case of ANN model inorder to avoid domination of bigger values on the smaller values.\n",
        "\n",
        "scaler = StandardScaler()\n",
        "\n",
        "x_train_scale= pd.DataFrame(scaler.fit_transform(x_train), columns=x_train.columns)\n",
        "x_test_scale= pd.DataFrame(scaler.transform(x_test), columns=x_test.columns)\n"
      ]
    },
    {
      "cell_type": "code",
      "execution_count": null,
      "metadata": {
        "id": "T5ZelziAQluF"
      },
      "outputs": [],
      "source": [
        "# display(x_test_scale)"
      ]
    },
    {
      "cell_type": "markdown",
      "metadata": {
        "id": "gLVjH-17W6vB"
      },
      "source": [
        "#Building Base Model"
      ]
    },
    {
      "cell_type": "code",
      "execution_count": null,
      "metadata": {
        "id": "i56OWBq1Ql56"
      },
      "outputs": [],
      "source": [
        "# we need to create the instance of the model \n",
        "\n",
        "model = tf.keras.Sequential(name='Main_container')\n",
        "\n",
        "# Addding the input layer to the architecture\n",
        "model.add(tf.keras.layers.Input(shape=[7], name='Input_Layer'))\n",
        "\n",
        "# Adding the dense layer to the architecture\n",
        "model.add(tf.keras.layers.Dense(units=8,activation=\"elu\",kernel_initializer=\"he_normal\",name=\"Hidden_layer_1\"))\n",
        "model.add(Dropout(0.2))\n",
        "model.add(tf.keras.layers.Dense(units=7, activation='elu', kernel_initializer=\"he_normal\",name='Hidden_layer_2'))\n",
        "\n",
        "# Adding the output layer to the architecture\n",
        "# model.add(tf.keras.layers.Dense(units=1,activation=\"sigmoid\", kernel_initializer=\"glorot_normal\", name=\"Output_Layer\"))\n",
        "model.add(tf.keras.layers.Dense(units = 1,activation=\"sigmoid\",kernel_initializer =\"glorot_normal\",name =\"Output_Layer\"))\n"
      ]
    },
    {
      "cell_type": "code",
      "execution_count": null,
      "metadata": {
        "colab": {
          "base_uri": "https://localhost:8080/"
        },
        "id": "l-PjeqedQmFf",
        "outputId": "cd818950-066c-4be6-8276-478c4d01bf15"
      },
      "outputs": [
        {
          "name": "stdout",
          "output_type": "stream",
          "text": [
            "Model: \"Main_container\"\n",
            "_________________________________________________________________\n",
            " Layer (type)                Output Shape              Param #   \n",
            "=================================================================\n",
            " Hidden_layer_1 (Dense)      (None, 8)                 64        \n",
            "                                                                 \n",
            " dropout_9 (Dropout)         (None, 8)                 0         \n",
            "                                                                 \n",
            " Hidden_layer_2 (Dense)      (None, 7)                 63        \n",
            "                                                                 \n",
            " Output_Layer (Dense)        (None, 1)                 8         \n",
            "                                                                 \n",
            "=================================================================\n",
            "Total params: 135\n",
            "Trainable params: 135\n",
            "Non-trainable params: 0\n",
            "_________________________________________________________________\n"
          ]
        }
      ],
      "source": [
        "model.summary() # hidddenlayer= 9 nueron connected to layer_2 by 8= 9*8 = 72 weights + 9 biases= 81 parameter"
      ]
    },
    {
      "cell_type": "code",
      "execution_count": null,
      "metadata": {
        "colab": {
          "base_uri": "https://localhost:8080/",
          "height": 533
        },
        "id": "xRwkmsj-QmQZ",
        "outputId": "78609a10-ccfb-4c51-ed98-512ecabd32cf"
      },
      "outputs": [
        {
          "data": {
            "image/png": "[encoded data removed]",
            "text/plain": [
              "<IPython.core.display.Image object>"
            ]
          },
          "execution_count": 147,
          "metadata": {},
          "output_type": "execute_result"
        }
      ],
      "source": [
        "plot_model(model, show_shapes=True,show_layer_names=True,show_layer_activations=True)"
      ]
    },
    {
      "cell_type": "code",
      "execution_count": null,
      "metadata": {
        "id": "4_AVHeNiQmav"
      },
      "outputs": [],
      "source": [
        "# Once the architecture has been created we can add the functinality to the model\n",
        "\n",
        "# model.compile(optimizer='adam',loss=\"binary_crossentropy\", metrics=['accuracy'])\n",
        "model.compile(\n",
        "    optimizer=\"adam\",\n",
        "    loss=\"binary_crossentropy\",\n",
        "    metrics =[\"accuracy\"]\n",
        ")"
      ]
    },
    {
      "cell_type": "code",
      "execution_count": null,
      "metadata": {
        "colab": {
          "base_uri": "https://localhost:8080/"
        },
        "id": "c4dO88KGQmkx",
        "outputId": "015cee2d-ce52-4ad2-f398-f41151d28ef0"
      },
      "outputs": [
        {
          "name": "stdout",
          "output_type": "stream",
          "text": [
            "Looking in indexes: https://pypi.org/simple, https://us-python.pkg.dev/colab-wheels/public/simple/\n",
            "Requirement already satisfied: keras in /usr/local/lib/python3.8/dist-packages (2.9.0)\n",
            "Looking in indexes: https://pypi.org/simple, https://us-python.pkg.dev/colab-wheels/public/simple/\n",
            "Requirement already satisfied: ann_visualizer in /usr/local/lib/python3.8/dist-packages (2.5)\n",
            "Looking in indexes: https://pypi.org/simple, https://us-python.pkg.dev/colab-wheels/public/simple/\n",
            "Requirement already satisfied: graphviz in /usr/local/lib/python3.8/dist-packages (0.10.1)\n"
          ]
        }
      ],
      "source": [
        "!pip install keras\n",
        "!pip install ann_visualizer\n",
        "!pip install graphviz"
      ]
    },
    {
      "cell_type": "code",
      "execution_count": null,
      "metadata": {
        "id": "ahvDgMHxQmt3"
      },
      "outputs": [],
      "source": [
        "from ann_visualizer.visualize import ann_viz\n",
        "ann_viz(model)"
      ]
    },
    {
      "cell_type": "code",
      "execution_count": null,
      "metadata": {
        "colab": {
          "base_uri": "https://localhost:8080/"
        },
        "id": "OZ4VLnvxQm21",
        "outputId": "de7bcb4d-5afc-4d98-9b4a-1eeaf731a690"
      },
      "outputs": [
        {
          "name": "stdout",
          "output_type": "stream",
          "text": [
            "Epoch 1/20\n",
            "31/31 [==============================] - 1s 8ms/step - loss: 0.6703 - accuracy: 0.6517 - val_loss: 0.7294 - val_accuracy: 0.6098\n",
            "Epoch 2/20\n",
            "31/31 [==============================] - 0s 3ms/step - loss: 0.6726 - accuracy: 0.6741 - val_loss: 0.6963 - val_accuracy: 0.6423\n",
            "Epoch 3/20\n",
            "31/31 [==============================] - 0s 5ms/step - loss: 0.6271 - accuracy: 0.6843 - val_loss: 0.6755 - val_accuracy: 0.6341\n",
            "Epoch 4/20\n",
            "31/31 [==============================] - 0s 5ms/step - loss: 0.5941 - accuracy: 0.7169 - val_loss: 0.6592 - val_accuracy: 0.6341\n",
            "Epoch 5/20\n",
            "31/31 [==============================] - 0s 5ms/step - loss: 0.5849 - accuracy: 0.7006 - val_loss: 0.6428 - val_accuracy: 0.6585\n",
            "Epoch 6/20\n",
            "31/31 [==============================] - 0s 5ms/step - loss: 0.5681 - accuracy: 0.7169 - val_loss: 0.6315 - val_accuracy: 0.6585\n",
            "Epoch 7/20\n",
            "31/31 [==============================] - 0s 3ms/step - loss: 0.5803 - accuracy: 0.7291 - val_loss: 0.6214 - val_accuracy: 0.6748\n",
            "Epoch 8/20\n",
            "31/31 [==============================] - 0s 2ms/step - loss: 0.5492 - accuracy: 0.7413 - val_loss: 0.6116 - val_accuracy: 0.6911\n",
            "Epoch 9/20\n",
            "31/31 [==============================] - 0s 2ms/step - loss: 0.5484 - accuracy: 0.7393 - val_loss: 0.6065 - val_accuracy: 0.6911\n",
            "Epoch 10/20\n",
            "31/31 [==============================] - 0s 4ms/step - loss: 0.5552 - accuracy: 0.7454 - val_loss: 0.6006 - val_accuracy: 0.6992\n",
            "Epoch 11/20\n",
            "31/31 [==============================] - 0s 3ms/step - loss: 0.5326 - accuracy: 0.7495 - val_loss: 0.5941 - val_accuracy: 0.7073\n",
            "Epoch 12/20\n",
            "31/31 [==============================] - 0s 3ms/step - loss: 0.5383 - accuracy: 0.7495 - val_loss: 0.5911 - val_accuracy: 0.6992\n",
            "Epoch 13/20\n",
            "31/31 [==============================] - 0s 3ms/step - loss: 0.5390 - accuracy: 0.7271 - val_loss: 0.5859 - val_accuracy: 0.6992\n",
            "Epoch 14/20\n",
            "31/31 [==============================] - 0s 3ms/step - loss: 0.5266 - accuracy: 0.7454 - val_loss: 0.5799 - val_accuracy: 0.6992\n",
            "Epoch 15/20\n",
            "31/31 [==============================] - 0s 3ms/step - loss: 0.5268 - accuracy: 0.7454 - val_loss: 0.5751 - val_accuracy: 0.7073\n",
            "Epoch 16/20\n",
            "31/31 [==============================] - 0s 3ms/step - loss: 0.5317 - accuracy: 0.7576 - val_loss: 0.5707 - val_accuracy: 0.7073\n",
            "Epoch 17/20\n",
            "31/31 [==============================] - 0s 3ms/step - loss: 0.5112 - accuracy: 0.7658 - val_loss: 0.5651 - val_accuracy: 0.7073\n",
            "Epoch 18/20\n",
            "31/31 [==============================] - 0s 3ms/step - loss: 0.5315 - accuracy: 0.7393 - val_loss: 0.5616 - val_accuracy: 0.7073\n",
            "Epoch 19/20\n",
            "31/31 [==============================] - 0s 3ms/step - loss: 0.5120 - accuracy: 0.7515 - val_loss: 0.5556 - val_accuracy: 0.7073\n",
            "Epoch 20/20\n",
            "31/31 [==============================] - 0s 3ms/step - loss: 0.5082 - accuracy: 0.7536 - val_loss: 0.5518 - val_accuracy: 0.7073\n"
          ]
        }
      ],
      "source": [
        "# Now we are feeding the dataset to the model architectcture where we have added the functionality\n",
        "\n",
        "# history= model.fit(x_train_scale,y_train,verbose=True,batch_size=16,validation_split=0.2,\n",
        "#                    epochs=20,workers=10, use_multiprocessing=True)\n",
        "\n",
        "history = model.fit(\n",
        "                  x_train_scale,\n",
        "                  y_train,\n",
        "                  verbose=True,\n",
        "                  batch_size=16,\n",
        "                  validation_split=0.2,\n",
        "                  epochs = 20,\n",
        "                  workers=10,\n",
        "                  use_multiprocessing=True)"
      ]
    },
    {
      "cell_type": "code",
      "execution_count": null,
      "metadata": {
        "colab": {
          "base_uri": "https://localhost:8080/"
        },
        "id": "YqZ7WBunQm-z",
        "outputId": "2693ccf2-821d-4228-c4fb-b068acb029ff"
      },
      "outputs": [
        {
          "data": {
            "text/plain": [
              "{'loss': [0.670257031917572,\n",
              "  0.6726232767105103,\n",
              "  0.6271185874938965,\n",
              "  0.594129204750061,\n",
              "  0.5848618149757385,\n",
              "  0.5681354999542236,\n",
              "  0.5803062915802002,\n",
              "  0.5491960048675537,\n",
              "  0.5484237670898438,\n",
              "  0.555238664150238,\n",
              "  0.5325703620910645,\n",
              "  0.53831547498703,\n",
              "  0.5389584302902222,\n",
              "  0.5265745520591736,\n",
              "  0.52681565284729,\n",
              "  0.5317133665084839,\n",
              "  0.5111818909645081,\n",
              "  0.5315061807632446,\n",
              "  0.512024462223053,\n",
              "  0.5082448720932007],\n",
              " 'accuracy': [0.6517311334609985,\n",
              "  0.6741344332695007,\n",
              "  0.6843177080154419,\n",
              "  0.7169042825698853,\n",
              "  0.7006109952926636,\n",
              "  0.7169042825698853,\n",
              "  0.7291242480278015,\n",
              "  0.7413442134857178,\n",
              "  0.7393075227737427,\n",
              "  0.7454175353050232,\n",
              "  0.7494908571243286,\n",
              "  0.7494908571243286,\n",
              "  0.7270875573158264,\n",
              "  0.7454175353050232,\n",
              "  0.7454175353050232,\n",
              "  0.7576375007629395,\n",
              "  0.7657840847969055,\n",
              "  0.7393075227737427,\n",
              "  0.7515274882316589,\n",
              "  0.753564178943634],\n",
              " 'val_loss': [0.7294214963912964,\n",
              "  0.6963306665420532,\n",
              "  0.6755432486534119,\n",
              "  0.6591914296150208,\n",
              "  0.6427845358848572,\n",
              "  0.6315264701843262,\n",
              "  0.6213619112968445,\n",
              "  0.6115546226501465,\n",
              "  0.606497585773468,\n",
              "  0.6006039381027222,\n",
              "  0.5941348671913147,\n",
              "  0.59111088514328,\n",
              "  0.5858844518661499,\n",
              "  0.5798640847206116,\n",
              "  0.5751351714134216,\n",
              "  0.5706519484519958,\n",
              "  0.5651482343673706,\n",
              "  0.5615755915641785,\n",
              "  0.5555853843688965,\n",
              "  0.5517507791519165],\n",
              " 'val_accuracy': [0.6097561120986938,\n",
              "  0.642276406288147,\n",
              "  0.6341463327407837,\n",
              "  0.6341463327407837,\n",
              "  0.6585366129875183,\n",
              "  0.6585366129875183,\n",
              "  0.6747967600822449,\n",
              "  0.6910569071769714,\n",
              "  0.6910569071769714,\n",
              "  0.6991869807243347,\n",
              "  0.707317054271698,\n",
              "  0.6991869807243347,\n",
              "  0.6991869807243347,\n",
              "  0.6991869807243347,\n",
              "  0.707317054271698,\n",
              "  0.707317054271698,\n",
              "  0.707317054271698,\n",
              "  0.707317054271698,\n",
              "  0.707317054271698,\n",
              "  0.707317054271698]}"
            ]
          },
          "execution_count": 152,
          "metadata": {},
          "output_type": "execute_result"
        }
      ],
      "source": [
        "history.history"
      ]
    },
    {
      "cell_type": "code",
      "execution_count": null,
      "metadata": {
        "id": "r6AujXwdQnF5"
      },
      "outputs": [],
      "source": [
        "# we can even plot the accuracy and the loss on the specific epochs\n",
        "\n",
        "def plotting(history,keyword):\n",
        "  plt.plot(history.history[keyword])\n",
        "  plt.plot(history.history['val_'+keyword])\n",
        "\n",
        "  plt.title(\"model\"+keyword)\n",
        "  plt.title(\"model \"+ keyword) \n",
        "  plt.ylabel(keyword)\n",
        "  plt.xlabel(\"epochs\")\n",
        "\n",
        "  plt.legend(['training_data','validating_data'])\n"
      ]
    },
    {
      "cell_type": "code",
      "execution_count": null,
      "metadata": {
        "colab": {
          "base_uri": "https://localhost:8080/",
          "height": 295
        },
        "id": "nW3IuTar358t",
        "outputId": "eb40d6ec-555e-4fab-d729-aa16c92b26aa"
      },
      "outputs": [
        {
          "data": {
            "image/png": "[encoded data removed]",
            "text/plain": [
              "<Figure size 432x288 with 1 Axes>"
            ]
          },
          "metadata": {},
          "output_type": "display_data"
        }
      ],
      "source": [
        "plotting(history,'accuracy')"
      ]
    },
    {
      "cell_type": "code",
      "execution_count": null,
      "metadata": {
        "colab": {
          "base_uri": "https://localhost:8080/",
          "height": 295
        },
        "id": "Rc0j0tRn38fK",
        "outputId": "f0b5cd4e-8f7f-4f2f-f85d-2c5bca5b8d66"
      },
      "outputs": [
        {
          "data": {
            "image/png": "[encoded data removed]",
            "text/plain": [
              "<Figure size 432x288 with 1 Axes>"
            ]
          },
          "metadata": {},
          "output_type": "display_data"
        }
      ],
      "source": [
        "plotting(history,\"loss\")"
      ]
    },
    {
      "cell_type": "markdown",
      "metadata": {
        "id": "RIL6QdrN55uQ"
      },
      "source": [
        "#Predicting on test data"
      ]
    },
    {
      "cell_type": "code",
      "execution_count": null,
      "metadata": {
        "colab": {
          "base_uri": "https://localhost:8080/"
        },
        "id": "t64sNX_G4q41",
        "outputId": "3b8a045f-d608-44ed-f682-8bf2bb3d4445"
      },
      "outputs": [
        {
          "name": "stdout",
          "output_type": "stream",
          "text": [
            "5/5 [==============================] - 0s 4ms/step\n"
          ]
        },
        {
          "data": {
            "text/plain": [
              "array([0.95088583], dtype=float32)"
            ]
          },
          "execution_count": 156,
          "metadata": {},
          "output_type": "execute_result"
        }
      ],
      "source": [
        "y_logs = model.predict(x_test_scale)\n",
        "y_logs[11] # probablity are return"
      ]
    },
    {
      "cell_type": "code",
      "execution_count": null,
      "metadata": {
        "colab": {
          "base_uri": "https://localhost:8080/"
        },
        "id": "cqL_wYc74rCs",
        "outputId": "44ea75ca-50e7-453b-ccd4-65dff1c59fbb"
      },
      "outputs": [
        {
          "data": {
            "text/plain": [
              "array([1])"
            ]
          },
          "execution_count": 157,
          "metadata": {},
          "output_type": "execute_result"
        }
      ],
      "source": [
        "y_pred= np.where(y_logs > 0.5, 1,0) # now output will be 0,1 keeping threshold=0.5\n",
        "y_pred[11]"
      ]
    },
    {
      "cell_type": "code",
      "execution_count": null,
      "metadata": {
        "colab": {
          "base_uri": "https://localhost:8080/"
        },
        "id": "v8WZfYXp4rPF",
        "outputId": "64581e3d-eb06-4ad8-8731-ace276e614ee"
      },
      "outputs": [
        {
          "name": "stdout",
          "output_type": "stream",
          "text": [
            "Accuracy on testing dataset is :  0.7337662337662337\n",
            "classification report on testing dataset is :\n",
            "                precision    recall  f1-score   support\n",
            "\n",
            "           0       0.77      0.84      0.80        99\n",
            "           1       0.65      0.55      0.59        55\n",
            "\n",
            "    accuracy                           0.73       154\n",
            "   macro avg       0.71      0.69      0.70       154\n",
            "weighted avg       0.73      0.73      0.73       154\n",
            "\n",
            "confusion matrix on testing dataset is :\n",
            "  [[83 16]\n",
            " [25 30]]\n"
          ]
        }
      ],
      "source": [
        "# printing the accuracy matrix on the testing data\n",
        "\n",
        "from sklearn.metrics import accuracy_score, classification_report,confusion_matrix\n",
        "\n",
        "acc= accuracy_score(y_test,y_pred)\n",
        "clas_report= classification_report(y_test,y_pred)\n",
        "con_matrix = confusion_matrix(y_test, y_pred)\n",
        "print(\"Accuracy on testing dataset is : \",acc)\n",
        "print(\"classification report on testing dataset is :\\n \",clas_report)\n",
        "print(\"confusion matrix on testing dataset is :\\n \",con_matrix)"
      ]
    },
    {
      "cell_type": "markdown",
      "metadata": {
        "id": "FX6dt6zV8GEU"
      },
      "source": [
        "#Callbacks"
      ]
    },
    {
      "cell_type": "code",
      "execution_count": null,
      "metadata": {
        "id": "EYHKyIur4rZS"
      },
      "outputs": [],
      "source": [
        "# create a callback class\n",
        "\n",
        "class ConditionalCallback(tf.keras.callbacks.Callback):\n",
        "  def end_epochs(self, epochs, logs={}):\n",
        "    if (logs.get(\"accuracy\") >0.80 and logs.get('val_accuracy') >0.80):\n",
        "      self.model.stop_training=True\n"
      ]
    },
    {
      "cell_type": "code",
      "execution_count": null,
      "metadata": {
        "id": "wCPDgy9k4rjz"
      },
      "outputs": [],
      "source": [
        "cond_callback = ConditionalCallback()  # instance of class ConditionalCallback has created"
      ]
    },
    {
      "cell_type": "code",
      "execution_count": null,
      "metadata": {
        "id": "W4Bxw_LE4rtY"
      },
      "outputs": [],
      "source": [
        "early_stoppers= EarlyStopping(\n",
        "                              monitor=\"val_accuracy\",\n",
        "                              min_delta=0.02,\n",
        "                              patience=15,\n",
        "                              mode=\"max\",\n",
        "                              restore_best_weights=True)"
      ]
    },
    {
      "cell_type": "code",
      "execution_count": null,
      "metadata": {
        "id": "AMQYC2eZ4r2I"
      },
      "outputs": [],
      "source": [
        "# we need to create the instance for that model\n",
        "\n",
        "model2= tf.keras.Sequential(name=\"Main_container\")\n",
        "\n",
        "# adding input layer\n",
        "model2.add(tf.keras.layers.Input(shape=[7], name=\"Input_layer\"))\n",
        "\n",
        "# adding hidden layer\n",
        "model2.add(tf.keras.layers.Dense(units=8, activation=\"elu\", kernel_initializer=\"he_normal\", name=\"hidden_layer1\"))\n",
        "model2.add(Dropout(0.2))\n",
        "model2.add(tf.keras.layers.Dense(units=7, activation=\"relu\", kernel_initializer=\"he_normal\", name=\"hidden_layer2\"))\n",
        "\n",
        "# add output layer\n",
        "model2.add(tf.keras.layers.Dense(units=1, activation=\"sigmoid\", kernel_initializer=\"glorot_normal\", name=\"output_layer\"))"
      ]
    },
    {
      "cell_type": "code",
      "execution_count": null,
      "metadata": {
        "colab": {
          "base_uri": "https://localhost:8080/"
        },
        "id": "77HOjz6c4r_R",
        "outputId": "9033b280-ed09-4372-a38f-1b98037b2a4a"
      },
      "outputs": [
        {
          "name": "stdout",
          "output_type": "stream",
          "text": [
            "Model: \"Main_container\"\n",
            "_________________________________________________________________\n",
            " Layer (type)                Output Shape              Param #   \n",
            "=================================================================\n",
            " hidden_layer1 (Dense)       (None, 8)                 64        \n",
            "                                                                 \n",
            " dropout_10 (Dropout)        (None, 8)                 0         \n",
            "                                                                 \n",
            " hidden_layer2 (Dense)       (None, 7)                 63        \n",
            "                                                                 \n",
            " output_layer (Dense)        (None, 1)                 8         \n",
            "                                                                 \n",
            "=================================================================\n",
            "Total params: 135\n",
            "Trainable params: 135\n",
            "Non-trainable params: 0\n",
            "_________________________________________________________________\n"
          ]
        }
      ],
      "source": [
        "model2.summary()"
      ]
    },
    {
      "cell_type": "code",
      "execution_count": null,
      "metadata": {
        "id": "bWwnqGMc4sKv"
      },
      "outputs": [],
      "source": [
        "model2.compile(optimizer='adam', loss='binary_crossentropy',metrics=[\"accuracy\"])"
      ]
    },
    {
      "cell_type": "code",
      "execution_count": null,
      "metadata": {
        "colab": {
          "base_uri": "https://localhost:8080/"
        },
        "id": "eWecqLLD4sjX",
        "outputId": "77881560-5fc2-4466-b633-0099246b9f40"
      },
      "outputs": [
        {
          "name": "stdout",
          "output_type": "stream",
          "text": [
            "Epoch 1/50\n",
            "39/39 [==============================] - 0s 4ms/step - loss: 0.4969 - accuracy: 0.7362 - val_loss: 0.5370 - val_accuracy: 0.7532\n",
            "Epoch 2/50\n",
            "39/39 [==============================] - 0s 4ms/step - loss: 0.4941 - accuracy: 0.7524 - val_loss: 0.5334 - val_accuracy: 0.7468\n",
            "Epoch 3/50\n",
            "39/39 [==============================] - 0s 4ms/step - loss: 0.4861 - accuracy: 0.7573 - val_loss: 0.5326 - val_accuracy: 0.7532\n",
            "Epoch 4/50\n",
            "39/39 [==============================] - 0s 5ms/step - loss: 0.4930 - accuracy: 0.7508 - val_loss: 0.5309 - val_accuracy: 0.7468\n",
            "Epoch 5/50\n",
            "39/39 [==============================] - 0s 4ms/step - loss: 0.4818 - accuracy: 0.7573 - val_loss: 0.5298 - val_accuracy: 0.7468\n",
            "Epoch 6/50\n",
            "39/39 [==============================] - 0s 4ms/step - loss: 0.4708 - accuracy: 0.7834 - val_loss: 0.5288 - val_accuracy: 0.7597\n",
            "Epoch 7/50\n",
            "39/39 [==============================] - 0s 4ms/step - loss: 0.4755 - accuracy: 0.7573 - val_loss: 0.5273 - val_accuracy: 0.7662\n",
            "Epoch 8/50\n",
            "39/39 [==============================] - 0s 4ms/step - loss: 0.4793 - accuracy: 0.7410 - val_loss: 0.5270 - val_accuracy: 0.7662\n",
            "Epoch 9/50\n",
            "39/39 [==============================] - 0s 4ms/step - loss: 0.4627 - accuracy: 0.7818 - val_loss: 0.5274 - val_accuracy: 0.7662\n",
            "Epoch 10/50\n",
            "39/39 [==============================] - 0s 5ms/step - loss: 0.4705 - accuracy: 0.7590 - val_loss: 0.5258 - val_accuracy: 0.7662\n",
            "Epoch 11/50\n",
            "39/39 [==============================] - 0s 6ms/step - loss: 0.4660 - accuracy: 0.7524 - val_loss: 0.5269 - val_accuracy: 0.7662\n",
            "Epoch 12/50\n",
            "39/39 [==============================] - 0s 5ms/step - loss: 0.4591 - accuracy: 0.7736 - val_loss: 0.5266 - val_accuracy: 0.7597\n",
            "Epoch 13/50\n",
            "39/39 [==============================] - 0s 5ms/step - loss: 0.4546 - accuracy: 0.7769 - val_loss: 0.5270 - val_accuracy: 0.7532\n",
            "Epoch 14/50\n",
            "39/39 [==============================] - 0s 4ms/step - loss: 0.4572 - accuracy: 0.7720 - val_loss: 0.5263 - val_accuracy: 0.7532\n",
            "Epoch 15/50\n",
            "39/39 [==============================] - 0s 3ms/step - loss: 0.4498 - accuracy: 0.7655 - val_loss: 0.5270 - val_accuracy: 0.7532\n",
            "Epoch 16/50\n",
            "39/39 [==============================] - 0s 3ms/step - loss: 0.4591 - accuracy: 0.7655 - val_loss: 0.5276 - val_accuracy: 0.7597\n"
          ]
        }
      ],
      "source": [
        "history2= model2.fit(x_train_scale, \n",
        "                     y_train, \n",
        "                     batch_size=16,\n",
        "                     epochs=50,\n",
        "                     validation_data=[x_test_scale,y_test],\n",
        "                     callbacks=[cond_callback, early_stoppers],\n",
        "                     workers=10,\n",
        "                     use_multiprocessing=True)"
      ]
    },
    {
      "cell_type": "code",
      "execution_count": null,
      "metadata": {
        "colab": {
          "base_uri": "https://localhost:8080/",
          "height": 295
        },
        "id": "qx45CQsf4svF",
        "outputId": "7bdcf503-aa71-43bb-fe70-77713bf93732"
      },
      "outputs": [
        {
          "data": {
            "image/png": "[encoded data removed]",
            "text/plain": [
              "<Figure size 432x288 with 1 Axes>"
            ]
          },
          "metadata": {},
          "output_type": "display_data"
        }
      ],
      "source": [
        "plotting(history2,\"accuracy\")"
      ]
    },
    {
      "cell_type": "code",
      "execution_count": null,
      "metadata": {
        "colab": {
          "base_uri": "https://localhost:8080/",
          "height": 295
        },
        "id": "FGo5V0LK4s47",
        "outputId": "a27d52d9-30a4-4bba-d593-dbdc581c9172"
      },
      "outputs": [
        {
          "data": {
            "image/png": "[encoded data removed]",
            "text/plain": [
              "<Figure size 432x288 with 1 Axes>"
            ]
          },
          "metadata": {},
          "output_type": "display_data"
        }
      ],
      "source": [
        "plotting(history2,\"loss\")"
      ]
    },
    {
      "cell_type": "code",
      "execution_count": null,
      "metadata": {
        "colab": {
          "base_uri": "https://localhost:8080/"
        },
        "id": "30wZ6nNCMwlH",
        "outputId": "1e968b0d-d564-467c-c21a-8146c90c55fc"
      },
      "outputs": [
        {
          "name": "stdout",
          "output_type": "stream",
          "text": [
            "5/5 [==============================] - 0s 4ms/step\n"
          ]
        },
        {
          "data": {
            "text/plain": [
              "0.7532467532467533"
            ]
          },
          "execution_count": 184,
          "metadata": {},
          "output_type": "execute_result"
        }
      ],
      "source": [
        "y_log= model2.predict(x_test_scale)\n",
        "y_pred= np.where(y_log > 0.5, 1,0)\n",
        "acc= accuracy_score(y_test,y_pred)\n",
        "acc"
      ]
    },
    {
      "cell_type": "markdown",
      "metadata": {
        "id": "e2CM9vGaGr6I"
      },
      "source": [
        "# prediction on test array"
      ]
    },
    {
      "cell_type": "code",
      "execution_count": null,
      "metadata": {
        "colab": {
          "base_uri": "https://localhost:8080/",
          "height": 143
        },
        "id": "hnJW2JvN4tCR",
        "outputId": "309fdf34-4508-4e6a-f683-63328d1a3a72"
      },
      "outputs": [
        {
          "data": {
            "text/html": [
              "\n",
              "  <div id=\"df-549ab13a-d29f-483f-ad19-b4b0762f1cde\">\n",
              "    <div class=\"colab-df-container\">\n",
              "      <div>\n",
              "<style scoped>\n",
              "    .dataframe tbody tr th:only-of-type {\n",
              "        vertical-align: middle;\n",
              "    }\n",
              "\n",
              "    .dataframe tbody tr th {\n",
              "        vertical-align: top;\n",
              "    }\n",
              "\n",
              "    .dataframe thead th {\n",
              "        text-align: right;\n",
              "    }\n",
              "</style>\n",
              "<table border=\"1\" class=\"dataframe\">\n",
              "  <thead>\n",
              "    <tr style=\"text-align: right;\">\n",
              "      <th></th>\n",
              "      <th>Glucose</th>\n",
              "      <th>BloodPressure</th>\n",
              "      <th>SkinThickness</th>\n",
              "      <th>Insulin</th>\n",
              "      <th>BMI</th>\n",
              "      <th>DiabetesPedigreeFunction</th>\n",
              "      <th>Age</th>\n",
              "      <th>Outcome</th>\n",
              "    </tr>\n",
              "  </thead>\n",
              "  <tbody>\n",
              "    <tr>\n",
              "      <th>47</th>\n",
              "      <td>71</td>\n",
              "      <td>70</td>\n",
              "      <td>27</td>\n",
              "      <td>0</td>\n",
              "      <td>28.0</td>\n",
              "      <td>0.586</td>\n",
              "      <td>22</td>\n",
              "      <td>0</td>\n",
              "    </tr>\n",
              "    <tr>\n",
              "      <th>386</th>\n",
              "      <td>116</td>\n",
              "      <td>74</td>\n",
              "      <td>29</td>\n",
              "      <td>0</td>\n",
              "      <td>32.3</td>\n",
              "      <td>0.660</td>\n",
              "      <td>35</td>\n",
              "      <td>1</td>\n",
              "    </tr>\n",
              "    <tr>\n",
              "      <th>680</th>\n",
              "      <td>56</td>\n",
              "      <td>56</td>\n",
              "      <td>28</td>\n",
              "      <td>45</td>\n",
              "      <td>24.2</td>\n",
              "      <td>0.332</td>\n",
              "      <td>22</td>\n",
              "      <td>0</td>\n",
              "    </tr>\n",
              "  </tbody>\n",
              "</table>\n",
              "</div>\n",
              "      <button class=\"colab-df-convert\" onclick=\"convertToInteractive('df-549ab13a-d29f-483f-ad19-b4b0762f1cde')\"\n",
              "              title=\"Convert this dataframe to an interactive table.\"\n",
              "              style=\"display:none;\">\n",
              "        \n",
              "  <svg xmlns=\"http://www.w3.org/2000/svg\" height=\"24px\"viewBox=\"0 0 24 24\"\n",
              "       width=\"24px\">\n",
              "    <path d=\"M0 0h24v24H0V0z\" fill=\"none\"/>\n",
              "    <path d=\"M18.56 5.44l.94 2.06.94-2.06 2.06-.94-2.06-.94-.94-2.06-.94 2.06-2.06.94zm-11 1L8.5 8.5l.94-2.06 2.06-.94-2.06-.94L8.5 2.5l-.94 2.06-2.06.94zm10 10l.94 2.06.94-2.06 2.06-.94-2.06-.94-.94-2.06-.94 2.06-2.06.94z\"/><path d=\"M17.41 7.96l-1.37-1.37c-.4-.4-.92-.59-1.43-.59-.52 0-1.04.2-1.43.59L10.3 9.45l-7.72 7.72c-.78.78-.78 2.05 0 2.83L4 21.41c.39.39.9.59 1.41.59.51 0 1.02-.2 1.41-.59l7.78-7.78 2.81-2.81c.8-.78.8-2.07 0-2.86zM5.41 20L4 18.59l7.72-7.72 1.47 1.35L5.41 20z\"/>\n",
              "  </svg>\n",
              "      </button>\n",
              "      \n",
              "  <style>\n",
              "    .colab-df-container {\n",
              "      display:flex;\n",
              "      flex-wrap:wrap;\n",
              "      gap: 12px;\n",
              "    }\n",
              "\n",
              "    .colab-df-convert {\n",
              "      background-color: #E8F0FE;\n",
              "      border: none;\n",
              "      border-radius: 50%;\n",
              "      cursor: pointer;\n",
              "      display: none;\n",
              "      fill: #1967D2;\n",
              "      height: 32px;\n",
              "      padding: 0 0 0 0;\n",
              "      width: 32px;\n",
              "    }\n",
              "\n",
              "    .colab-df-convert:hover {\n",
              "      background-color: #E2EBFA;\n",
              "      box-shadow: 0px 1px 2px rgba(60, 64, 67, 0.3), 0px 1px 3px 1px rgba(60, 64, 67, 0.15);\n",
              "      fill: #174EA6;\n",
              "    }\n",
              "\n",
              "    [theme=dark] .colab-df-convert {\n",
              "      background-color: #3B4455;\n",
              "      fill: #D2E3FC;\n",
              "    }\n",
              "\n",
              "    [theme=dark] .colab-df-convert:hover {\n",
              "      background-color: #434B5C;\n",
              "      box-shadow: 0px 1px 3px 1px rgba(0, 0, 0, 0.15);\n",
              "      filter: drop-shadow(0px 1px 2px rgba(0, 0, 0, 0.3));\n",
              "      fill: #FFFFFF;\n",
              "    }\n",
              "  </style>\n",
              "\n",
              "      <script>\n",
              "        const buttonEl =\n",
              "          document.querySelector('#df-549ab13a-d29f-483f-ad19-b4b0762f1cde button.colab-df-convert');\n",
              "        buttonEl.style.display =\n",
              "          google.colab.kernel.accessAllowed ? 'block' : 'none';\n",
              "\n",
              "        async function convertToInteractive(key) {\n",
              "          const element = document.querySelector('#df-549ab13a-d29f-483f-ad19-b4b0762f1cde');\n",
              "          const dataTable =\n",
              "            await google.colab.kernel.invokeFunction('convertToInteractive',\n",
              "                                                     [key], {});\n",
              "          if (!dataTable) return;\n",
              "\n",
              "          const docLinkHtml = 'Like what you see? Visit the ' +\n",
              "            '<a target=\"_blank\" href=https://colab.research.google.com/notebooks/data_table.ipynb>data table notebook</a>'\n",
              "            + ' to learn more about interactive tables.';\n",
              "          element.innerHTML = '';\n",
              "          dataTable['output_type'] = 'display_data';\n",
              "          await google.colab.output.renderOutput(dataTable, element);\n",
              "          const docLink = document.createElement('div');\n",
              "          docLink.innerHTML = docLinkHtml;\n",
              "          element.appendChild(docLink);\n",
              "        }\n",
              "      </script>\n",
              "    </div>\n",
              "  </div>\n",
              "  "
            ],
            "text/plain": [
              "     Glucose  BloodPressure  SkinThickness  Insulin   BMI  \\\n",
              "47        71             70             27        0  28.0   \n",
              "386      116             74             29        0  32.3   \n",
              "680       56             56             28       45  24.2   \n",
              "\n",
              "     DiabetesPedigreeFunction  Age  Outcome  \n",
              "47                      0.586   22        0  \n",
              "386                     0.660   35        1  \n",
              "680                     0.332   22        0  "
            ]
          },
          "execution_count": 169,
          "metadata": {},
          "output_type": "execute_result"
        }
      ],
      "source": [
        "df.sample(3) # 680th row will consider"
      ]
    },
    {
      "cell_type": "code",
      "execution_count": null,
      "metadata": {
        "colab": {
          "base_uri": "https://localhost:8080/"
        },
        "id": "5EO0hSDxGxHP",
        "outputId": "22e1b297-967d-4d12-d2d9-d79a4ca9ba7f"
      },
      "outputs": [
        {
          "name": "stdout",
          "output_type": "stream",
          "text": [
            "1/1 [==============================] - 0s 27ms/step\n",
            "patient is non diabetic\n"
          ]
        },
        {
          "name": "stderr",
          "output_type": "stream",
          "text": [
            "/usr/local/lib/python3.8/dist-packages/sklearn/base.py:450: UserWarning: X does not have valid feature names, but StandardScaler was fitted with feature names\n",
            "  warnings.warn(\n"
          ]
        }
      ],
      "source": [
        "input_data=[71,70,27,0,28,0.586,22]\n",
        "\n",
        "# converting the input data to the array form\n",
        "input_array= np.array(input_data, ndmin=2) # method 1\n",
        "\n",
        "# input_array= np.asarray(input_data) # method 2 but use following reshape step to make it in 2d\n",
        "# we need to reshape it inorder to pass in one instance\n",
        "input_array_reshape= input_array.reshape(1,-1)\n",
        "\n",
        "# scaling the test array\n",
        "input_scaled = scaler.transform(input_array)\n",
        "\n",
        "# prediction\n",
        "\n",
        "prediction= model2.predict(input_scaled)\n",
        "y_pred= np.where(prediction > 0.5,1,0)\n",
        "\n",
        "if y_pred==1:\n",
        "  print('patient is diabitic')\n",
        "else:\n",
        "  print(\"patient is non diabetic\")"
      ]
    },
    {
      "cell_type": "markdown",
      "metadata": {
        "id": "37caEYX0Mgkh"
      },
      "source": [
        "#Dumping the model"
      ]
    },
    {
      "cell_type": "code",
      "execution_count": null,
      "metadata": {
        "colab": {
          "base_uri": "https://localhost:8080/"
        },
        "id": "X-dHdOMBGxU8",
        "outputId": "4e28057b-b484-4443-8b0f-c3a3e29f294c"
      },
      "outputs": [
        {
          "name": "stderr",
          "output_type": "stream",
          "text": [
            "WARNING:absl:Function `_wrapped_model` contains input name(s) Input_Layer with unsupported characters which will be renamed to input_layer in the SavedModel.\n"
          ]
        }
      ],
      "source": [
        "import pickle\n",
        "\n",
        "filename =\"trained_model.sav\"\n",
        "pickle.dump( model,open(filename,\"wb\"))\n",
        "\n",
        "filename_sc = \"scaler.pkl\"\n",
        "pickle.dump(scaler,open(filename_sc,\"wb\"))"
      ]
    },
    {
      "cell_type": "markdown",
      "metadata": {
        "id": "Qnsf7-9cSbl3"
      },
      "source": [
        "#Loading model and loading standard scaler"
      ]
    },
    {
      "cell_type": "code",
      "execution_count": null,
      "metadata": {
        "id": "W-Wi95DTGxe8"
      },
      "outputs": [],
      "source": [
        "load_scaler= pickle.load(open(\"scaler.pkl\",\"rb\"))\n",
        "\n",
        "load_model= pickle.load(open(\"trained_model.sav\",\"rb\"))"
      ]
    },
    {
      "cell_type": "markdown",
      "metadata": {
        "id": "DU-_qzVES74k"
      },
      "source": [
        "#checking prediction on loaded mdel"
      ]
    },
    {
      "cell_type": "code",
      "execution_count": null,
      "metadata": {
        "colab": {
          "base_uri": "https://localhost:8080/"
        },
        "id": "0En-wVUhGx3T",
        "outputId": "ad3b1e0f-3a12-4338-f60a-44f611d1637b"
      },
      "outputs": [
        {
          "name": "stdout",
          "output_type": "stream",
          "text": [
            "1/1 [==============================] - 0s 83ms/step\n",
            "non_dibetic\n"
          ]
        },
        {
          "name": "stderr",
          "output_type": "stream",
          "text": [
            "/usr/local/lib/python3.8/dist-packages/sklearn/base.py:450: UserWarning: X does not have valid feature names, but StandardScaler was fitted with feature names\n",
            "  warnings.warn(\n"
          ]
        }
      ],
      "source": [
        "input_data=[95,80,45,92,36.5,0.33,26]\n",
        "\n",
        "input_array= np.array(input_data, ndmin=2)\n",
        "\n",
        "input_scale = load_scaler.transform(input_array)\n",
        "prediction = load_model.predict(input_scale)\n",
        "y_pred= np.where(prediction >0.5,1,0)\n",
        "if y_pred==1:\n",
        "  print('Dibetic')\n",
        "else:\n",
        "  print(\"non_dibetic\")\n"
      ]
    },
    {
      "cell_type": "code",
      "execution_count": null,
      "metadata": {
        "id": "8rWI0wXnGyBC"
      },
      "outputs": [],
      "source": [
        "# !pip install -q streamlit "
      ]
    },
    {
      "cell_type": "code",
      "execution_count": null,
      "metadata": {
        "colab": {
          "base_uri": "https://localhost:8080/"
        },
        "id": "QeWVtG4vTwjm",
        "outputId": "b8d4738f-7668-4bad-8663-968993db7a04"
      },
      "outputs": [
        {
          "name": "stdout",
          "output_type": "stream",
          "text": [
            "Writing app.py\n"
          ]
        }
      ],
      "source": [
        "%%writefile app.py\n",
        "\n",
        "import numpy as np\n",
        "import pandas as pd\n",
        "import streamlit as st\n",
        "import pickle\n",
        "\n",
        "#loading the model\n",
        "load_model= pickle.load(open(\"trained_model.sav\",\"rb\"))\n",
        "\n",
        "# loading the scaler object\n",
        "load_scaler= pickle.load(open(\"scaler.pkl\",\"rb\"))\n",
        "\n",
        "def diabetes_prediction(input_data):\n",
        "    input_array= np.array(input_data, ndmin=2)\n",
        "\n",
        "    input_scale = load_scaler.transform(input_array)\n",
        "\n",
        "    prediction = load_model.predict(input_scale)\n",
        "\n",
        "    y_pred= np.where(prediction >0.5,1,0)\n",
        "    if y_pred==1:\n",
        "      print('Dibetic')\n",
        "    else:\n",
        "      print(\"non_dibetic\")\n",
        "\n",
        "\n",
        "def main():\n",
        "  # giving the title to the web page\n",
        "  st.title(\"Diabetes Prediction Web App\")\n",
        "  Glucose = st.text_input(\"Glucose levels\")\n",
        "  BloodPressure= st.text_input(\"BloodPressure\")\n",
        "  SkinThickness= st.text_input(\"SkinThickness\")\n",
        "  Insulin= st.text_input(\"Insulin\")\n",
        "  BMI= st.text_input(\"BMI\")\n",
        "  DiabetesPedigreeFunction= st.text_input(\"DiabetesPedigreeFunction\")\n",
        "  Age= st.text_input(\"Age\")\n",
        "\n",
        "  # code for prediction\n",
        "  diagnosis = \"\"\n",
        "\n",
        "  # creating the button for prediction \n",
        "  if st.button(\"Diabetes Test Result\"):\n",
        "  diagnosis= diabetes_prediction['Glucose', 'BloodPressure', 'SkinThickness', 'Insulin', 'BMI',\n",
        "       'DiabetesPedigreeFunction', 'Age']\n",
        "\n",
        "  st.success(diagnosis)\n",
        "\n",
        "if __name__==\"__main__\":\n",
        "  main()"
      ]
    },
    {
      "cell_type": "code",
      "execution_count": null,
      "metadata": {
        "colab": {
          "background_save": true,
          "base_uri": "https://localhost:8080/"
        },
        "id": "Ib0PP1ByTwsY",
        "outputId": "892b211d-c58c-4402-fe2e-bbd5844a9533"
      },
      "outputs": [
        {
          "name": "stdout",
          "output_type": "stream",
          "text": [
            "[#######...........] \\ extract:localtunnel: verb lock using /root/.npm/_locks/s\u001b[0m\u001b[K\n",
            "Collecting usage statistics. To deactivate, set browser.gatherUsageStats to False.\n",
            "\u001b[0m\n",
            "\u001b[K\u001b[?25hnpx: installed 22 in 5.908s\n",
            "\u001b[0m\n",
            "\u001b[34m\u001b[1m  You can now view your Streamlit app in your browser.\u001b[0m\n",
            "\u001b[0m\n",
            "\u001b[34m  Network URL: \u001b[0m\u001b[1mhttp://172.28.0.12:8501\u001b[0m\n",
            "\u001b[34m  External URL: \u001b[0m\u001b[1mhttp://34.125.157.192:8501\u001b[0m\n",
            "\u001b[0m\n"
          ]
        }
      ],
      "source": [
        "!streamlit run app.py & npx localtunnel --port 8501"
      ]
    },
    {
      "cell_type": "code",
      "execution_count": null,
      "metadata": {
        "id": "p490XZk0Tw2q"
      },
      "outputs": [],
      "source": []
    },
    {
      "cell_type": "code",
      "execution_count": null,
      "metadata": {
        "id": "4iSTk38vTw-j"
      },
      "outputs": [],
      "source": []
    },
    {
      "cell_type": "code",
      "execution_count": null,
      "metadata": {
        "id": "xvxtbZs9TxHD"
      },
      "outputs": [],
      "source": []
    }
  ],
  "metadata": {
    "colab": {
      "provenance": [],
      "authorship_tag": "ABX9TyNZSKopecjLIjAmiaE3Q2AH",
      "include_colab_link": true
    },
    "gpuClass": "standard",
    "kernelspec": {
      "display_name": "Python 3",
      "name": "python3"
    },
    "language_info": {
      "name": "python"
    }
  },
  "nbformat": 4,
  "nbformat_minor": 0
}